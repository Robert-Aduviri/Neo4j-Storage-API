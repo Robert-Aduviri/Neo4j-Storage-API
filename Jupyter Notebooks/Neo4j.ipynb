{
 "cells": [
  {
   "cell_type": "markdown",
   "metadata": {},
   "source": [
    "### Initialize session"
   ]
  },
  {
   "cell_type": "code",
   "execution_count": 32,
   "metadata": {
    "collapsed": false
   },
   "outputs": [],
   "source": [
    "from neo4j.v1 import GraphDatabase, basic_auth\n",
    "driver = GraphDatabase.driver(\"bolt://localhost:7687\", \n",
    "                    auth=basic_auth(\"neo4j\", \"admin\"))\n",
    "session = driver.session()"
   ]
  },
  {
   "cell_type": "markdown",
   "metadata": {},
   "source": [
    "### Close session"
   ]
  },
  {
   "cell_type": "code",
   "execution_count": null,
   "metadata": {
    "collapsed": true
   },
   "outputs": [],
   "source": [
    "session.close()"
   ]
  },
  {
   "cell_type": "markdown",
   "metadata": {},
   "source": [
    "### Hello world"
   ]
  },
  {
   "cell_type": "code",
   "execution_count": null,
   "metadata": {
    "collapsed": true
   },
   "outputs": [],
   "source": [
    "session.run(\"CREATE (a:Person {name:'Arthur', \"\n",
    "                              \"title: 'King'})\")\n",
    "result = session.run(\"MATCH (a:Person) \"\n",
    "            \"WHERE a.name = 'Arthur' \"\n",
    "            \"RETURN a.name AS name, a.title AS title\")\n",
    "for record in result:\n",
    "    print(\"%s %s\" % (record['title'], record['name']))"
   ]
  },
  {
   "cell_type": "markdown",
   "metadata": {},
   "source": [
    "### Query all"
   ]
  },
  {
   "cell_type": "code",
   "execution_count": null,
   "metadata": {
    "collapsed": true
   },
   "outputs": [],
   "source": [
    "session.run(\"MATCH (n) RETURN n\") "
   ]
  },
  {
   "cell_type": "markdown",
   "metadata": {},
   "source": [
    "### Delete all"
   ]
  },
  {
   "cell_type": "code",
   "execution_count": null,
   "metadata": {
    "collapsed": true
   },
   "outputs": [],
   "source": [
    "session.run(\"MATCH (n) DETACH DELETE n\") "
   ]
  },
  {
   "cell_type": "markdown",
   "metadata": {},
   "source": [
    "### Run statements"
   ]
  },
  {
   "cell_type": "code",
   "execution_count": null,
   "metadata": {
    "collapsed": true
   },
   "outputs": [],
   "source": [
    "with session.begin_transaction() as tx:\n",
    "    tx.run(\"CREATE (:Person {name: 'Guinevere'})\")\n",
    "    tx.success = True"
   ]
  },
  {
   "cell_type": "markdown",
   "metadata": {},
   "source": [
    "### Roll back a transaction"
   ]
  },
  {
   "cell_type": "code",
   "execution_count": null,
   "metadata": {
    "collapsed": true
   },
   "outputs": [],
   "source": [
    "with session.begin_transaction() as tx:\n",
    "    tx.run(\"CREATE (:Person {name: 'Merlin'})\")\n",
    "    tx.success = False"
   ]
  },
  {
   "cell_type": "markdown",
   "metadata": {},
   "source": [
    "### Auto-commit transactions and query parameters"
   ]
  },
  {
   "cell_type": "code",
   "execution_count": null,
   "metadata": {
    "collapsed": true
   },
   "outputs": [],
   "source": [
    "result = session.run(\"CREATE (person:Person {name: {name}})\", \n",
    "                     {\"name\": \"Arthur\"})"
   ]
  },
  {
   "cell_type": "markdown",
   "metadata": {},
   "source": [
    "### Result cursor"
   ]
  },
  {
   "cell_type": "code",
   "execution_count": null,
   "metadata": {
    "collapsed": true
   },
   "outputs": [],
   "source": [
    "search_term = \"Sword\"\n",
    "result = session.run(\"MATCH (weapon:Weapon) \"\n",
    "                     \"WHERE weapon.name CONTAINS {term} \"\n",
    "                     \"RETURN weapon.name\", \n",
    "                     {\"term\": search_term})\n",
    "print(\"List of weapons called %r:\" % search_term)\n",
    "for record in result:\n",
    "    print(record[\"weapon.name\"])"
   ]
  },
  {
   "cell_type": "markdown",
   "metadata": {},
   "source": [
    "### The record"
   ]
  },
  {
   "cell_type": "code",
   "execution_count": 33,
   "metadata": {
    "collapsed": false
   },
   "outputs": [
    {
     "name": "stdout",
     "output_type": "stream",
     "text": [
      "List of weapons owned by 'Arthur':\n"
     ]
    }
   ],
   "source": [
    "search_term = \"Arthur\"\n",
    "result = session.run(\"MATCH (weapon:Weapon) \"\n",
    "                     \"WHERE weapon.owner CONTAINS {term} \"\n",
    "                     \"RETURN weapon.name, weapon.material, weapon.size\", \n",
    "                     {\"term\": search_term})\n",
    "print(\"List of weapons owned by %r:\" % search_term)\n",
    "for record in result:\n",
    "    print(\", \".join(\"%s: %s\" % \n",
    "            (key, record[key]) for key in record.keys()))"
   ]
  },
  {
   "cell_type": "markdown",
   "metadata": {},
   "source": [
    "### Retaining results for further processing"
   ]
  },
  {
   "cell_type": "code",
   "execution_count": null,
   "metadata": {
    "collapsed": true
   },
   "outputs": [],
   "source": [
    "session = driver.session()\n",
    "result = session.run(\"MATCH (knight:Person:Knight) \"\n",
    "                     \"WHERE knight.castle = {castle} \"\n",
    "                     \"RETURN knight.name AS name\", \n",
    "                     {\"castle\": \"Camelot\"})\n",
    "retained_result = list(result)\n",
    "session.close()\n",
    "for record in retained_result:\n",
    "    print(\"%s is a knight of Camelot\" % record[\"name\"])"
   ]
  },
  {
   "cell_type": "markdown",
   "metadata": {},
   "source": [
    "### Use results in a new query"
   ]
  },
  {
   "cell_type": "code",
   "execution_count": null,
   "metadata": {
    "collapsed": true
   },
   "outputs": [],
   "source": [
    "result = session.run(\"MATCH (knight:Person:Knight) \"\n",
    "                     \"WHERE knight.castle = {castle} \"\n",
    "                     \"RETURN id(knight) AS knight_id\", \n",
    "                     {\"castle\": \"Camelot\"})\n",
    "for record in result:\n",
    "    session.run(\"MATCH (knight) \"\n",
    "                \"WHERE id(knight) = {id} \"\n",
    "                \"MATCH (king:Person) \"\n",
    "                \"WHERE king.name = {king} \"\n",
    "                \"CREATE (knight)-[:DEFENDS]->(king)\", \n",
    "                {\"id\": record[\"knight_id\"], \n",
    "                 \"king\": \"Arthur\"})"
   ]
  },
  {
   "cell_type": "code",
   "execution_count": null,
   "metadata": {
    "collapsed": true
   },
   "outputs": [],
   "source": []
  }
 ],
 "metadata": {
  "anaconda-cloud": {},
  "kernelspec": {
   "display_name": "Python 3",
   "language": "python",
   "name": "python3"
  },
  "language_info": {
   "codemirror_mode": {
    "name": "ipython",
    "version": 3
   },
   "file_extension": ".py",
   "mimetype": "text/x-python",
   "name": "python",
   "nbconvert_exporter": "python",
   "pygments_lexer": "ipython3",
   "version": "3.5.2"
  }
 },
 "nbformat": 4,
 "nbformat_minor": 2
}
